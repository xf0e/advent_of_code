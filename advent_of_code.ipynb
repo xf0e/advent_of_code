{
 "cells": [
  {
   "cell_type": "code",
   "execution_count": 37,
   "metadata": {
    "collapsed": false
   },
   "outputs": [
    {
     "name": "stdout",
     "output_type": "stream",
     "text": [
      "Whole surface is: 1598415 elves would also need this much of ribbon: 3812909\n"
     ]
    }
   ],
   "source": [
    "#problem 2 part 1 & 2\n",
    "with open(\"problem2.txt\", \"r\") as ins:\n",
    "    array = []\n",
    "    for line in ins:\n",
    "        array.append(line)\n",
    "big_surface = 0\n",
    "all_ribbons =0\n",
    "for wl in array:\n",
    "    wl = wl.split('x')\n",
    "    wl = [int(x) for x in wl]\n",
    "    surface = 2 * wl[0] * wl[1] + 2 * wl[1] * wl[2] + 2 * wl[2] * wl[0]\n",
    "    wl = sorted(wl)\n",
    "    small_side = wl[0] * wl[1]\n",
    "    bow = wl[0] * wl[1] * wl[2]\n",
    "    ribbons = wl[0] + wl[0] + wl[1] + wl[1]\n",
    "    big_surface = big_surface + surface + small_side\n",
    "    all_ribbons = all_ribbons + bow + ribbons\n",
    "    \n",
    "print('Whole surface is:', big_surface, 'elves would also need this much of ribbon:', all_ribbons)\n",
    "\n"
   ]
  },
  {
   "cell_type": "code",
   "execution_count": 33,
   "metadata": {
    "collapsed": false
   },
   "outputs": [
    {
     "name": "stdout",
     "output_type": "stream",
     "text": [
      "1797\n"
     ]
    }
   ],
   "source": [
    "#problem 1 part 2 # find the instruction first leading into basement\n",
    "floor = 0\n",
    "with open('problem1.txt', 'r') as ins:\n",
    "    for i, char in enumerate(ins.read(), 1):\n",
    "        if char == '(':\n",
    "            floor += 1\n",
    "        else:\n",
    "            floor -= 1\n",
    "        if floor < 0:\n",
    "            break\n",
    "print(i)"
   ]
  },
  {
   "cell_type": "code",
   "execution_count": null,
   "metadata": {
    "collapsed": false
   },
   "outputs": [],
   "source": [
    "#problem 3 part 2\n",
    "# The number of people (or robots) delivering\n",
    "n = 2\n",
    "# Add a set of coordinates for each person.\n",
    "coords = [(0,0)] * n\n",
    "# Keep track of the houses we've visited\n",
    "houses = set([(0,0)])\n",
    "\n",
    "with open('prob3.txt') as f:\n",
    "    chars = f.read()\n",
    "    # 'Partition' the list into sets of instructions of length n\n",
    "    chunks = [chars[i:i+n] for i in range(0, len(chars), n)]\n",
    "    # For each set of instructions\n",
    "    for chunk in chunks:\n",
    "        for i, instruction in enumerate(chunk):\n",
    "            # Get the current coordinates for each person for each instruction\n",
    "            x, y = coords[i]\n",
    "            # Adjust position\n",
    "            if instruction == '^':\n",
    "                y -= 1\n",
    "            elif instruction == '>':\n",
    "                x += 1\n",
    "            elif instruction == 'v':\n",
    "                y += 1\n",
    "            elif instruction == '<':\n",
    "                x -= 1\n",
    "            # Add new house\n",
    "            houses.add((x,y))\n",
    "            # Store position for next round\n",
    "            coords[i] = (x, y)\n",
    "\n",
    "# Count up all the houses.\n",
    "print(len(houses))"
   ]
  },
  {
   "cell_type": "code",
   "execution_count": null,
   "metadata": {
    "collapsed": false
   },
   "outputs": [],
   "source": [
    "#http://adventofcode.com/\n",
    "#PROBLEM 5\n",
    "import re\n",
    "\n",
    "p1 = re.compile('(.*[aeiou].*){3,}') #3 vowels\n",
    "p2 = re.compile(\"([a-z])\\\\1\") # double letters\n",
    "p3 = re.compile(\"ab|cd|pq|xy\") #none of these\n",
    "\n",
    "with open(\"problem5.txt\", 'r') as ins:\n",
    "        print(len([l for l in ins\n",
    "                  if (not p3.search(l)) and p1.search(l) and p2.search(l)]))\n",
    "\n",
    "p4 = re.compile(\"([a-z][a-z]).*\\\\1\") \n",
    "p5 = re.compile(\"([a-z])[a-z]\\\\1\") \n",
    "with open('problem5.txt', 'r') as f:\n",
    "    print(len([l for l in f if p4.search(l) and p5.search(l)]))\n"
   ]
  },
  {
   "cell_type": "code",
   "execution_count": null,
   "metadata": {
    "collapsed": false
   },
   "outputs": [],
   "source": [
    "#problem 6\n",
    "import re\n",
    "p6_re = re.compile(\"([0-9]+)\") # get all coordinates\n",
    "lights_on = set()\n",
    "with open(\"protblem6.txt\", \"r\") as ins:\n",
    "    for line in ins:\n",
    "        x1, y1, x2, y2 = [int(x) for x in p6_re.findall(line)] ## get ranges\n",
    "        if line.startswith(\"turn on\"):\n",
    "            for x in range(x1, x2+1):\n",
    "                for y in range(y1, y2+1):\n",
    "                    lights_on.add((x,y))\n",
    "        elif line.startswith(\"toggle\"):\n",
    "            for x in range(x1, x2+1):\n",
    "                for y in range(y1, y2+1):\n",
    "                    if (x,y) in lights_on:\n",
    "                        lights_on.remove((x,y))\n",
    "                    else:\n",
    "                        lights_on.add((x,y))\n",
    "        elif line.startswith(\"turn off\"):\n",
    "            for x in range(x1, x2+1):\n",
    "                for y in range(y1, y2+1):\n",
    "                    if (x,y) in lights_on:\n",
    "                        lights_on.remove((x,y))\n",
    "print(len(lights_on)) #part 1\n",
    "\n",
    "\n",
    "import re\n",
    "from collections import defaultdict\n",
    "# This regex pulls out all contiguous numbers from a line.\n",
    "r = re.compile(\"([0-9]+)\")\n",
    "\n",
    "# Keep track of lights as a dict with 0 as a default value.\n",
    "lights = defaultdict(int)\n",
    "with open('protblem6.txt') as f:\n",
    "    for line in f:\n",
    "        # Get the ranges from the instruction via regex\n",
    "        x1, y1, x2, y2 = [int(x) for x in r.findall(line)]\n",
    "        # For each instruction, iterate over the range and do the right thing.\n",
    "        if line.startswith('toggle'):\n",
    "            for x in range(x1, x2 + 1):\n",
    "                for y in range(y1, y2 + 1):\n",
    "                    # Toggle: Add two to existing brightness\n",
    "                    lights[(x,y)] = lights[(x,y)] + 2\n",
    "        elif line.startswith('turn off'):\n",
    "            for x in range(x1, x2 + 1):\n",
    "                for y in range(y1, y2 + 1):\n",
    "                    # Turn off: Remove one from existing brightness, but not below 0\n",
    "                    lights[(x,y)] = max(lights[(x,y)] - 1, 0)\n",
    "\n",
    "        elif line.startswith('turn on'):\n",
    "            for x in range(x1, x2 + 1):\n",
    "                for y in range(y1, y2 + 1):\n",
    "                    # Turn on: Add one to existing brightness\n",
    "                    lights[(x,y)] = lights[(x,y)] + 1\n",
    "\n",
    "# Count up total brightness\n",
    "print((sum(lights.values()))) #part 2"
   ]
  },
  {
   "cell_type": "code",
   "execution_count": null,
   "metadata": {
    "collapsed": false
   },
   "outputs": [],
   "source": [
    "#problem 7\n",
    "import re\n",
    "get_cmd = re.compile(\"[A-Z]+\")\n",
    "get_args = re.compile(\"[a-z0-9]+\")\n",
    "\n",
    "# Store functions by their name\n",
    "funcs = {\n",
    "    'AND': lambda a,b: a & b,\n",
    "    'OR': lambda a,b: a | b,\n",
    "    'LSHIFT': lambda a,b: a << b,\n",
    "    'RSHIFT': lambda a,b: a >> b,\n",
    "    'NOT': lambda a: ~a,\n",
    "}\n",
    "\n",
    "# Look up symbol, and its definition recursively, saving the results in \n",
    "# the wires dict.\n",
    "def resolve(symbol):\n",
    "    if isinstance(symbol, int):\n",
    "        return symbol\n",
    "    value = wires[symbol]\n",
    "    if not isinstance(value, tuple):\n",
    "        return value\n",
    "    # Value must be a tuple (command, args)\n",
    "    command, args = value\n",
    "    if not command:\n",
    "        # If no command, it must be a simple assignment\n",
    "        result = resolve(args[0])\n",
    "        # store result\n",
    "        wires[symbol] = result\n",
    "        return result\n",
    "    else:\n",
    "        resolved_args = [resolve(x) for x in args]\n",
    "        result = funcs[command](*resolved_args)\n",
    "        # store result\n",
    "        wires[symbol] = result\n",
    "        return result\n",
    "\n",
    "wires = {}\n",
    "with open('problem7.txt', 'r') as f:\n",
    "    for line in f:\n",
    "        # Parse the command\n",
    "        command = get_cmd.search(line)\n",
    "        # Get all the arguments via regex\n",
    "        args = get_args.findall(line)\n",
    "        # Convert numeric arguments to integers\n",
    "        args = [int(x) if x.isdigit() else x for x in args]\n",
    "        # Get result of search if we found anything\n",
    "        if command:\n",
    "            command = command.group()\n",
    "        # Get the storage location of the command\n",
    "        to_wire = args.pop()\n",
    "        # Store it\n",
    "        wires[to_wire] = (command, tuple(args))\n",
    "\n",
    "#print(resolve('a')) #part 1\n",
    "\n",
    "\n",
    "initial_wires = wires.copy()\n",
    "result_a = resolve('a')\n",
    "# Reset to initial state, but with 'b' changed.\n",
    "wires = initial_wires\n",
    "wires['b'] = result_a\n",
    "print(resolve('a'))\n",
    "\n",
    "        "
   ]
  },
  {
   "cell_type": "code",
   "execution_count": null,
   "metadata": {
    "collapsed": false
   },
   "outputs": [],
   "source": [
    "import sys\n",
    "\n",
    "# Main\n",
    "print(sum([len(line.strip()) - len(eval(line)) for line in open('problem8.txt')]))\n",
    "print(sum([line.strip().count('\\\\') + line.strip().count('\"') + 2 for line in open('problem8.txt')]))"
   ]
  },
  {
   "cell_type": "code",
   "execution_count": null,
   "metadata": {
    "collapsed": false
   },
   "outputs": [],
   "source": [
    "#problem 9\n",
    "from itertools import permutations\n",
    "\n",
    "distances = {}\n",
    "places = set()\n",
    "\n",
    "with open('problem9.txt', 'r') as f:\n",
    "    for line in f:\n",
    "        parts = line.split(' ')\n",
    "        frm, _, to, _, amount = parts\n",
    "        amount = int(amount.strip())\n",
    "        distances[frm, to] = distances[to, frm] = amount\n",
    "        places.add(frm)\n",
    "        places.add(to)\n",
    "\n",
    "possibilities = permutations(places)\n",
    "totals = []\n",
    "\n",
    "for route in possibilities:\n",
    "    total = 0\n",
    "    for i, frm in enumerate(route):\n",
    "        if i == len(route) -1:\n",
    "            break\n",
    "        to = route[i+1]\n",
    "        total += distances[(frm, to)]\n",
    "    totals.append(total)\n",
    "print(min(totals))\n",
    "print(max(totals))"
   ]
  },
  {
   "cell_type": "code",
   "execution_count": null,
   "metadata": {
    "collapsed": false
   },
   "outputs": [],
   "source": [
    "#problem 10\n",
    "import re\n",
    "# This is a little complicated, we find a digit and capture all of its\n",
    "# repetitions, in the second capture group we have the single digit itself\n",
    "rep_digits = re.compile(r'((\\d)\\2*)')\n",
    "looknsay = '3113322113'\n",
    "\n",
    "for i in range(0,5):\n",
    "    new_looknsay = ''\n",
    "    for match, character in rep_digits.findall(looknsay):\n",
    "        new_looknsay += str(len(match))\n",
    "        new_looknsay += character\n",
    "    looknsay = new_looknsay\n",
    "    print(looknsay)\n",
    "print(len(looknsay))"
   ]
  },
  {
   "cell_type": "code",
   "execution_count": null,
   "metadata": {
    "collapsed": false
   },
   "outputs": [],
   "source": [
    "#problem 11\n",
    "import re\n",
    "\n",
    "\n",
    "# Magic ASCII number\n",
    "A = 97\n",
    "\n",
    "# Can't have these\n",
    "bad = re.compile(r'i|o|l')\n",
    "\n",
    "# Must have two pairs\n",
    "pairs = re.compile(r'([a-z])\\1.*([a-z])\\2')\n",
    "\n",
    "# Check if we have a sequence of type 'abc'\n",
    "def has_sequence(password):\n",
    "    # Switch chars to numbers\n",
    "    nums = list(map(ord, password))\n",
    "    # This checks if the current three are a run\n",
    "    has_run = lambda a,b,c: a == b - 1 and b == c - 1\n",
    "    # This maps our has_run on offset sequences and let's us know if anythin\n",
    "    # makes a run.\n",
    "    return any(map(has_run, nums, nums[1:], nums[2:]))\n",
    "\n",
    "def get_next_char(c):\n",
    "    # Reduce number to 0-26 range, then add 1\n",
    "    base_num = ord(c) - A + 1\n",
    "    # Convert back to char, keeping within 0-26, then add back up to [a-z] range\n",
    "    return chr((base_num % 26) + A)\n",
    "\n",
    "def increment_string(s):\n",
    "    if not s:\n",
    "        return ''\n",
    "    next_char = get_next_char(s[-1:])\n",
    "    # If we overflow, recursively overflow on earlier substrings\n",
    "    if next_char == 'a':\n",
    "        return increment_string(s[:-1]) + 'a'\n",
    "    next_string = s[:-1] + next_char\n",
    "    return next_string\n",
    "\n",
    "# Checks against all required predicates\n",
    "def is_valid(password):\n",
    "    return (has_sequence(current_password)\n",
    "            and pairs.search(current_password)\n",
    "            and not bad.search(current_password))\n",
    "\n",
    "current_password = 'hxbxwxba'\n",
    "\n",
    "while not is_valid(current_password):\n",
    "    current_password = increment_string(current_password)\n",
    "print(current_password) #part 1\n",
    "\n",
    "current_password = increment_string(current_password)\n",
    "while not is_valid(current_password):\n",
    "    current_password = increment_string(current_password)\n",
    "print(current_password) #part 2"
   ]
  },
  {
   "cell_type": "code",
   "execution_count": null,
   "metadata": {
    "collapsed": false
   },
   "outputs": [],
   "source": [
    "#problem 12\n",
    "import re\n",
    "\n",
    "p12 = re.compile(r'(-?\\d+)') #find numbers\n",
    "#part 1\n",
    "print(sum([sum(int(x) for x in p12.findall(line)) for line in open('problem12.txt')]))\n",
    "\n",
    "#part 2\n",
    "import json\n",
    "\n",
    "with open('problem12.txt') as file:\n",
    "    filter_red = lambda x: {} if 'red'  in x.values() else x\n",
    "    inp = json.load(file, object_hook=filter_red)\n",
    "\n",
    "def sum_numbers_in_json(json):\n",
    "    if isinstance(json, int):\n",
    "        return json\n",
    "\n",
    "    elif isinstance(json, list):\n",
    "        return sum(sum_numbers_in_json(x) for x in json)\n",
    "\n",
    "    elif isinstance(json, dict):\n",
    "        return sum(sum_numbers_in_json(x) for x in json.values())\n",
    "    return 0\n",
    "\n",
    "print(sum_numbers_in_json(inp))\n",
    "\n"
   ]
  },
  {
   "cell_type": "code",
   "execution_count": null,
   "metadata": {
    "collapsed": false
   },
   "outputs": [],
   "source": [
    "#problem 13\n",
    "\n",
    "import re\n",
    "from collections import defaultdict\n",
    "from itertools import permutations\n",
    "\n",
    "person = re.compile(r'[A-Z][a-z]')\n",
    "value = re.compile(r'-?\\d+')\n",
    "lose = re.compile(r'lose')\n",
    "people = set()\n",
    "\n",
    "mapping = defaultdict(int)\n",
    "sorted_tuple = lambda x, y: tuple(sorted((x,y)))\n",
    "with open('problem13.txt', 'r') as ins:\n",
    "    for line in ins:\n",
    "        sitter, neighbour = person.findall(line)\n",
    "        diff = int(value.search(line).group())\n",
    "        if lose.search(line):\n",
    "            diff = -diff\n",
    "        people.add(sitter)\n",
    "        # Just get the total difference for the pair of people.\n",
    "        mapping[sorted_tuple(sitter, neighbour)] += diff\n",
    "\n",
    "totals = []\n",
    "\n",
    "for p in permutations(people):\n",
    "    total = 0\n",
    "    for i, person in enumerate(p):\n",
    "        # Just need each person and their previous person\n",
    "        total += mapping[sorted_tuple(p[i-1], p[i]) ]\n",
    "    totals.append(total)\n",
    "\n",
    "print(max(totals))"
   ]
  },
  {
   "cell_type": "code",
   "execution_count": 12,
   "metadata": {
    "collapsed": false
   },
   "outputs": [
    {
     "name": "stdout",
     "output_type": "stream",
     "text": [
      "2696\n"
     ]
    }
   ],
   "source": [
    "#problem 14\n",
    "#part 1\n",
    "import re\n",
    "p14 = re.compile(\"([0-9]+)\")\n",
    "max_dist = []\n",
    "with open('problem14.txt', 'r') as ins:\n",
    "    for line in ins:\n",
    "        # Get the speed and times from the instruction via regex\n",
    "        speed, duration, rest = [int(x) for x in p14.findall(line)]\n",
    "        time = 2503\n",
    "        traveled = 0\n",
    "        while time > 0:\n",
    "            if time >= duration:\n",
    "                traveled += (speed * duration)\n",
    "                time = time - (duration + rest)\n",
    "            else:\n",
    "                traveled += (speed * time)\n",
    "                time = time - time\n",
    "        max_dist.append(traveled)\n",
    "print(max(max_dist))"
   ]
  },
  {
   "cell_type": "code",
   "execution_count": 19,
   "metadata": {
    "collapsed": false
   },
   "outputs": [
    {
     "name": "stdout",
     "output_type": "stream",
     "text": [
      "0 1084\n"
     ]
    }
   ],
   "source": [
    "import re\n",
    "import copy\n",
    "p14 = re.compile(\"([0-9]+)\")\n",
    "dist_after_s = [0,0,0,0,0,0,0,0,0]\n",
    "data = []\n",
    "l = []\n",
    "time = 2503\n",
    "with open('problem14.txt', 'r') as ins:\n",
    "    for line in ins:\n",
    "        hl = []\n",
    "        speed, duration, rest = [int(x) for x in p14.findall(line)]\n",
    "        hl.append(speed), hl.append(duration), hl.append(rest)\n",
    "        data.append(hl[:])\n",
    "datac = copy.deepcopy(data)\n",
    "while time > 0:\n",
    "    for i in range(len(data)):\n",
    "        if data[i][1] > 0:\n",
    "            dist_after_s[i] += data[i][0]\n",
    "            data[i][1]-=1\n",
    "        elif data[i][1] == 0 and data[i][2] > 0:\n",
    "            data[i][2]-=1\n",
    "            if data[i][1] == 0 and data[i][2] == 0:\n",
    "                data[i][1] = datac[i][1]\n",
    "                data[i][2] = datac[i][2]\n",
    "    time -= 1\n",
    "    l.append(dist_after_s.index(max(dist_after_s))) # in each step append the index to a list with the max value for this step\n",
    "print((max(set(l), key=l.count)),l.count(max(set(l), key=l.count))) # find the most common index nad # of it"
   ]
  },
  {
   "cell_type": "code",
   "execution_count": null,
   "metadata": {
    "collapsed": true
   },
   "outputs": [],
   "source": []
  }
 ],
 "metadata": {
  "kernelspec": {
   "display_name": "Python 3",
   "language": "python",
   "name": "python3"
  },
  "language_info": {
   "codemirror_mode": {
    "name": "ipython",
    "version": 3
   },
   "file_extension": ".py",
   "mimetype": "text/x-python",
   "name": "python",
   "nbconvert_exporter": "python",
   "pygments_lexer": "ipython3",
   "version": "3.5.1"
  }
 },
 "nbformat": 4,
 "nbformat_minor": 0
}
