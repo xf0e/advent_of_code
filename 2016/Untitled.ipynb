{
 "cells": [
  {
   "cell_type": "code",
   "execution_count": 3,
   "metadata": {
    "collapsed": true
   },
   "outputs": [],
   "source": [
    "\n"
   ]
  },
  {
   "cell_type": "markdown",
   "metadata": {},
   "source": [
    "# Day 2"
   ]
  },
  {
   "cell_type": "markdown",
   "metadata": {},
   "source": [
    "# --- Day 2: Bathroom Security ---\n",
    "\n",
    "You arrive at Easter Bunny Headquarters under cover of darkness. However, you left in such a rush that you forgot to use the bathroom! Fancy office buildings like this one usually have keypad locks on their bathrooms, so you search the front desk for the code.\n",
    "\n",
    "\"In order to improve security,\" the document you find says, \"bathroom codes will no longer be written down. Instead, please memorize and follow the procedure below to access the bathrooms.\"\n",
    "\n",
    "The document goes on to explain that each button to be pressed can be found by starting on the previous button and moving to adjacent buttons on the keypad: U moves up, D moves down, L moves left, and R moves right. Each line of instructions corresponds to one button, starting at the previous button (or, for the first line, the \"5\" button); press whatever button you're on at the end of each line. If a move doesn't lead to a button, ignore it.\n",
    "\n",
    "You can't hold it much longer, so you decide to figure out the code as you walk to the bathroom. You picture a keypad like this:\n",
    "\n",
    "1 2 3\n",
    "4 5 6\n",
    "7 8 9\n",
    "\n",
    "Suppose your instructions are:\n",
    "\n",
    "ULL\n",
    "RRDDD\n",
    "LURDL\n",
    "UUUUD\n",
    "\n",
    "    You start at \"5\" and move up (to \"2\"), left (to \"1\"), and left (you can't, and stay on \"1\"), so the first button is 1.\n",
    "    Starting from the previous button (\"1\"), you move right twice (to \"3\") and then down three times (stopping at \"9\" after two moves and ignoring the third), ending up with 9.\n",
    "    Continuing from \"9\", you move left, up, right, down, and left, ending with 8.\n",
    "    Finally, you move up four times (stopping at \"2\"), then down once, ending with 5.\n",
    "\n",
    "So, in this example, the bathroom code is 1985.\n",
    "\n",
    "Your puzzle input is the instructions from the document you found at the front desk. What is the bathroom code?\n",
    "\n",
    "Your puzzle answer was 78293.\n",
    "--- Part Two ---\n",
    "\n",
    "You finally arrive at the bathroom (it's a several minute walk from the lobby so visitors can behold the many fancy conference rooms and water coolers on this floor) and go to punch in the code. Much to your bladder's dismay, the keypad is not at all like you imagined it. Instead, you are confronted with the result of hundreds of man-hours of bathroom-keypad-design meetings:\n",
    "\n",
    "    1\n",
    "  2 3 4\n",
    "5 6 7 8 9\n",
    "  A B C\n",
    "    D\n",
    "\n",
    "You still start at \"5\" and stop when you're at an edge, but given the same instructions as above, the outcome is very different:\n",
    "\n",
    "    You start at \"5\" and don't move at all (up and left are both edges), ending at 5.\n",
    "    Continuing from \"5\", you move right twice and down three times (through \"6\", \"7\", \"B\", \"D\", \"D\"), ending at D.\n",
    "    Then, from \"D\", you move five more times (through \"D\", \"B\", \"C\", \"C\", \"B\"), ending at B.\n",
    "    Finally, after five more moves, you end at 3.\n",
    "\n",
    "So, given the actual keypad layout, the code would be 5DB3.\n",
    "\n",
    "Using the same instructions in your puzzle input, what is the correct bathroom code?\n",
    "\n",
    "Your puzzle answer was AC8C8."
   ]
  },
  {
   "cell_type": "code",
   "execution_count": 1,
   "metadata": {
    "collapsed": false
   },
   "outputs": [
    {
     "data": {
      "text/html": [
       "<ol class=list-inline>\n",
       "\t<li>'UUURRRRULRDLRDRRDURDDDLLDLLLULDUDDLDLULUURULRLDLRRLLLRRDRRLDDLLULUDUDDLRDRDUURDLURUURLRULLDDURULRRURDUURLULUUUURDDDDUUDLULRULLLRLLRRRURDLLRLLRRRUURULRDRUUDDDDDLLLRURRURRUURDUURDDRDLULRRLLLDRRRLURRLLURLDRRDDLDLRRLLRDRLLLLDLULDLRRDRRLDDURLULLUDLUDRRDRRLRLULURDRLRLUUUDLRLDLLLURDUDULULDDRUUURLLLDLLDDUDDRURURUDDLUULRDRRRRLDRDDURLUDURDULLDLUDLULDRLRLLRLLLLRURDURLLDRRDRLRUUUUULLLRUDURUDLLLUDLLLLRDLDRDUDRURLUDDUDDURLUUUUDDLLUDLULLLLLDUDLLRLRRDDDULULRLDRLLULDLUDLLURULRDDUURULRDLDLDLRL'</li>\n",
       "\t<li>'URUUURDULUDLUUUUDDRRRDRRRLDUDLRDRRDRDDLRUULDLLDUDULLLRLDRDRRLDLDLUUDRUULDUDULDUDURURDDURULDLURULRLULDUDDUULDLLLDDURDDRDDURUULUUDRLDDULDRRRRDURRUDLLLURDDDLRULLRDDRDDDDLUUDRDUULRRRRURULDDDLDDRDRRUDRRURUDRDDLDRRRLLURURUULUUDRDULLDRLRDRRDDURDUDLDRLUDRURDURURULDUUURDUULRRRRRUDLLULDDDRLULDDULUDRRRDDRUDRRDLDLRUULLLLRRDRRLUDRUULRDUDRDRRRDDRLLRUUDRLLLUDUDLULUUDULDRRRRDDRURULDULLURDLLLDUUDLLUDRLDURRRLDDDURUDUDURRULDD'</li>\n",
       "\t<li>'LRUDDULLLULRLUDUDUDRLLUUUULLUDLUUUUDULLUURDLLRDUDLRUDRUDDURURRURUDLLLRLDLUDRRRRRRDLUURLRDDDULRRUDRULRDRDDUULRDDLDULDRRRDDLURRURLLLRURDULLRUUUDDUDUURLRLDDUURLRDRRLURLDRLLUUURDRUUDUUUDRLURUUUDLDRRLRLLRRUURULLLRLLDLLLDULDDLDULDLDDRUDURDDURDUDURDLLLRRDDLULLLUDURLUDDLDLUUDRDRUDUUDLLDDLLLLDRDULRDLDULLRUDDUULDUDLDDDRUURLDRRLURRDDRUUDRUDLLDLULLULUDUDURDDRLRDLRLDRLDDRULLLRUDULDRLRLRULLRLLRRRLLRRRDDRULRUURRLLLRULDLUDRRDDLLLUDDUDDDLURLUDRDLURUUDLLDLULURRLLDURUDDDDRLULRDDLRLDDLRLLDDRRLRDUDUUULRRLRULUDURDUDRLRLRUDUDLLRRRRLRRUDUL'</li>\n",
       "\t<li>'RULLLLUUUDLLDLLRULLRURRULDDRDLUULDRLLRUDLLRRLRDURLLDUUUUURUUURDLUURRLDDDLRRRRLRULDUDDLURDRRUUDLRRRDLDDUDUDDRUDURURLDULLDLULDLLUDLULRDRLLURRLLDURLDLRDLULUDDULDLDDDDDUURRDRURLDLDULLURDLLDDLLUDLDLDRLRLDLRDRLDLRRUUDRURLUUUDLURUULDUDRDULLDURUDLUUURRRLLDUDUDDUUULLLRUULDLURUDDRLUDRDDLDLLUDUDRRRDDUUULUULLLRLLUURDUUDRUUULULLDLDRUUDURLLUULRLDLUURLLUUDRURDDRLURULDUDUUDRRUUURDULRLDUUDDRURURDRRULDDDRLUDLLUUDURRRLDLRLRDRURLURLLLRLDDLRRLDLDDURDUUDRDRRLDRLULDRLURUUUDDRLLLDDLDURLLLLDRDLDRRUDULURRLULRDRLLUULLRLRDRLLULUURRUDRUDDDLLDURURLURRRDLLDRDLUDRULULULRLDLRRRUUDLULDURLRDRLULRUUURRDDLRUURUDRURUDURURDD'</li>\n",
       "\t<li>'DURRDLLLDDLLDLLRLULULLRDLDRRDDRDLRULURRDUUDDRLLDDLDRRLRDUDRULDLRURDUUDRDDLLDRRDRUDUDULLDDDDLDRRRLRLRDRDLURRDDLDDDUUDRDRLLLDLUDDDLUULRDRLLLRLLUULUDDDRLDUUUURULRDDURRDRLUURLUDRLRLLLDDLRDDUULRRRRURDLDDDRLDLDRRLLDRDDUDDUURDLDUUDRDLDLDDULULUDDLRDDRLRLDDLUDLLDRLUDUDDRULLRLDLLRULRUURDDRDRDRURDRRLRDLLUDDRRDRRLDDULLLDLUDRRUDLDULDRURRDURLURRLDLRDLRUDLULUDDRULRLLDUURULURULURRLURRUULRULRRRLRDLULRLRLUDURDDRUUURDRLLRRRDDLDRRRULLDLRDRULDRRLRRDLUDDRDDDUUURRLULLDRRUULULLRRRRLDDRDDLUURLLUDLLDUDLULUULUDLLUUURRRUDDDRLLLRDRUUDUUURDRULURRLRDLLUURLRDURULDRRUDURRDDLDRLDRUUDRLLUDLRRU'</li>\n",
       "</ol>\n"
      ],
      "text/latex": [
       "\\begin{enumerate*}\n",
       "\\item 'UUURRRRULRDLRDRRDURDDDLLDLLLULDUDDLDLULUURULRLDLRRLLLRRDRRLDDLLULUDUDDLRDRDUURDLURUURLRULLDDURULRRURDUURLULUUUURDDDDUUDLULRULLLRLLRRRURDLLRLLRRRUURULRDRUUDDDDDLLLRURRURRUURDUURDDRDLULRRLLLDRRRLURRLLURLDRRDDLDLRRLLRDRLLLLDLULDLRRDRRLDDURLULLUDLUDRRDRRLRLULURDRLRLUUUDLRLDLLLURDUDULULDDRUUURLLLDLLDDUDDRURURUDDLUULRDRRRRLDRDDURLUDURDULLDLUDLULDRLRLLRLLLLRURDURLLDRRDRLRUUUUULLLRUDURUDLLLUDLLLLRDLDRDUDRURLUDDUDDURLUUUUDDLLUDLULLLLLDUDLLRLRRDDDULULRLDRLLULDLUDLLURULRDDUURULRDLDLDLRL'\n",
       "\\item 'URUUURDULUDLUUUUDDRRRDRRRLDUDLRDRRDRDDLRUULDLLDUDULLLRLDRDRRLDLDLUUDRUULDUDULDUDURURDDURULDLURULRLULDUDDUULDLLLDDURDDRDDURUULUUDRLDDULDRRRRDURRUDLLLURDDDLRULLRDDRDDDDLUUDRDUULRRRRURULDDDLDDRDRRUDRRURUDRDDLDRRRLLURURUULUUDRDULLDRLRDRRDDURDUDLDRLUDRURDURURULDUUURDUULRRRRRUDLLULDDDRLULDDULUDRRRDDRUDRRDLDLRUULLLLRRDRRLUDRUULRDUDRDRRRDDRLLRUUDRLLLUDUDLULUUDULDRRRRDDRURULDULLURDLLLDUUDLLUDRLDURRRLDDDURUDUDURRULDD'\n",
       "\\item 'LRUDDULLLULRLUDUDUDRLLUUUULLUDLUUUUDULLUURDLLRDUDLRUDRUDDURURRURUDLLLRLDLUDRRRRRRDLUURLRDDDULRRUDRULRDRDDUULRDDLDULDRRRDDLURRURLLLRURDULLRUUUDDUDUURLRLDDUURLRDRRLURLDRLLUUURDRUUDUUUDRLURUUUDLDRRLRLLRRUURULLLRLLDLLLDULDDLDULDLDDRUDURDDURDUDURDLLLRRDDLULLLUDURLUDDLDLUUDRDRUDUUDLLDDLLLLDRDULRDLDULLRUDDUULDUDLDDDRUURLDRRLURRDDRUUDRUDLLDLULLULUDUDURDDRLRDLRLDRLDDRULLLRUDULDRLRLRULLRLLRRRLLRRRDDRULRUURRLLLRULDLUDRRDDLLLUDDUDDDLURLUDRDLURUUDLLDLULURRLLDURUDDDDRLULRDDLRLDDLRLLDDRRLRDUDUUULRRLRULUDURDUDRLRLRUDUDLLRRRRLRRUDUL'\n",
       "\\item 'RULLLLUUUDLLDLLRULLRURRULDDRDLUULDRLLRUDLLRRLRDURLLDUUUUURUUURDLUURRLDDDLRRRRLRULDUDDLURDRRUUDLRRRDLDDUDUDDRUDURURLDULLDLULDLLUDLULRDRLLURRLLDURLDLRDLULUDDULDLDDDDDUURRDRURLDLDULLURDLLDDLLUDLDLDRLRLDLRDRLDLRRUUDRURLUUUDLURUULDUDRDULLDURUDLUUURRRLLDUDUDDUUULLLRUULDLURUDDRLUDRDDLDLLUDUDRRRDDUUULUULLLRLLUURDUUDRUUULULLDLDRUUDURLLUULRLDLUURLLUUDRURDDRLURULDUDUUDRRUUURDULRLDUUDDRURURDRRULDDDRLUDLLUUDURRRLDLRLRDRURLURLLLRLDDLRRLDLDDURDUUDRDRRLDRLULDRLURUUUDDRLLLDDLDURLLLLDRDLDRRUDULURRLULRDRLLUULLRLRDRLLULUURRUDRUDDDLLDURURLURRRDLLDRDLUDRULULULRLDLRRRUUDLULDURLRDRLULRUUURRDDLRUURUDRURUDURURDD'\n",
       "\\item 'DURRDLLLDDLLDLLRLULULLRDLDRRDDRDLRULURRDUUDDRLLDDLDRRLRDUDRULDLRURDUUDRDDLLDRRDRUDUDULLDDDDLDRRRLRLRDRDLURRDDLDDDUUDRDRLLLDLUDDDLUULRDRLLLRLLUULUDDDRLDUUUURULRDDURRDRLUURLUDRLRLLLDDLRDDUULRRRRURDLDDDRLDLDRRLLDRDDUDDUURDLDUUDRDLDLDDULULUDDLRDDRLRLDDLUDLLDRLUDUDDRULLRLDLLRULRUURDDRDRDRURDRRLRDLLUDDRRDRRLDDULLLDLUDRRUDLDULDRURRDURLURRLDLRDLRUDLULUDDRULRLLDUURULURULURRLURRUULRULRRRLRDLULRLRLUDURDDRUUURDRLLRRRDDLDRRRULLDLRDRULDRRLRRDLUDDRDDDUUURRLULLDRRUULULLRRRRLDDRDDLUURLLUDLLDUDLULUULUDLLUUURRRUDDDRLLLRDRUUDUUURDRULURRLRDLLUURLRDURULDRRUDURRDDLDRLDRUUDRLLUDLRRU'\n",
       "\\end{enumerate*}\n"
      ],
      "text/markdown": [
       "1. 'UUURRRRULRDLRDRRDURDDDLLDLLLULDUDDLDLULUURULRLDLRRLLLRRDRRLDDLLULUDUDDLRDRDUURDLURUURLRULLDDURULRRURDUURLULUUUURDDDDUUDLULRULLLRLLRRRURDLLRLLRRRUURULRDRUUDDDDDLLLRURRURRUURDUURDDRDLULRRLLLDRRRLURRLLURLDRRDDLDLRRLLRDRLLLLDLULDLRRDRRLDDURLULLUDLUDRRDRRLRLULURDRLRLUUUDLRLDLLLURDUDULULDDRUUURLLLDLLDDUDDRURURUDDLUULRDRRRRLDRDDURLUDURDULLDLUDLULDRLRLLRLLLLRURDURLLDRRDRLRUUUUULLLRUDURUDLLLUDLLLLRDLDRDUDRURLUDDUDDURLUUUUDDLLUDLULLLLLDUDLLRLRRDDDULULRLDRLLULDLUDLLURULRDDUURULRDLDLDLRL'\n",
       "2. 'URUUURDULUDLUUUUDDRRRDRRRLDUDLRDRRDRDDLRUULDLLDUDULLLRLDRDRRLDLDLUUDRUULDUDULDUDURURDDURULDLURULRLULDUDDUULDLLLDDURDDRDDURUULUUDRLDDULDRRRRDURRUDLLLURDDDLRULLRDDRDDDDLUUDRDUULRRRRURULDDDLDDRDRRUDRRURUDRDDLDRRRLLURURUULUUDRDULLDRLRDRRDDURDUDLDRLUDRURDURURULDUUURDUULRRRRRUDLLULDDDRLULDDULUDRRRDDRUDRRDLDLRUULLLLRRDRRLUDRUULRDUDRDRRRDDRLLRUUDRLLLUDUDLULUUDULDRRRRDDRURULDULLURDLLLDUUDLLUDRLDURRRLDDDURUDUDURRULDD'\n",
       "3. 'LRUDDULLLULRLUDUDUDRLLUUUULLUDLUUUUDULLUURDLLRDUDLRUDRUDDURURRURUDLLLRLDLUDRRRRRRDLUURLRDDDULRRUDRULRDRDDUULRDDLDULDRRRDDLURRURLLLRURDULLRUUUDDUDUURLRLDDUURLRDRRLURLDRLLUUURDRUUDUUUDRLURUUUDLDRRLRLLRRUURULLLRLLDLLLDULDDLDULDLDDRUDURDDURDUDURDLLLRRDDLULLLUDURLUDDLDLUUDRDRUDUUDLLDDLLLLDRDULRDLDULLRUDDUULDUDLDDDRUURLDRRLURRDDRUUDRUDLLDLULLULUDUDURDDRLRDLRLDRLDDRULLLRUDULDRLRLRULLRLLRRRLLRRRDDRULRUURRLLLRULDLUDRRDDLLLUDDUDDDLURLUDRDLURUUDLLDLULURRLLDURUDDDDRLULRDDLRLDDLRLLDDRRLRDUDUUULRRLRULUDURDUDRLRLRUDUDLLRRRRLRRUDUL'\n",
       "4. 'RULLLLUUUDLLDLLRULLRURRULDDRDLUULDRLLRUDLLRRLRDURLLDUUUUURUUURDLUURRLDDDLRRRRLRULDUDDLURDRRUUDLRRRDLDDUDUDDRUDURURLDULLDLULDLLUDLULRDRLLURRLLDURLDLRDLULUDDULDLDDDDDUURRDRURLDLDULLURDLLDDLLUDLDLDRLRLDLRDRLDLRRUUDRURLUUUDLURUULDUDRDULLDURUDLUUURRRLLDUDUDDUUULLLRUULDLURUDDRLUDRDDLDLLUDUDRRRDDUUULUULLLRLLUURDUUDRUUULULLDLDRUUDURLLUULRLDLUURLLUUDRURDDRLURULDUDUUDRRUUURDULRLDUUDDRURURDRRULDDDRLUDLLUUDURRRLDLRLRDRURLURLLLRLDDLRRLDLDDURDUUDRDRRLDRLULDRLURUUUDDRLLLDDLDURLLLLDRDLDRRUDULURRLULRDRLLUULLRLRDRLLULUURRUDRUDDDLLDURURLURRRDLLDRDLUDRULULULRLDLRRRUUDLULDURLRDRLULRUUURRDDLRUURUDRURUDURURDD'\n",
       "5. 'DURRDLLLDDLLDLLRLULULLRDLDRRDDRDLRULURRDUUDDRLLDDLDRRLRDUDRULDLRURDUUDRDDLLDRRDRUDUDULLDDDDLDRRRLRLRDRDLURRDDLDDDUUDRDRLLLDLUDDDLUULRDRLLLRLLUULUDDDRLDUUUURULRDDURRDRLUURLUDRLRLLLDDLRDDUULRRRRURDLDDDRLDLDRRLLDRDDUDDUURDLDUUDRDLDLDDULULUDDLRDDRLRLDDLUDLLDRLUDUDDRULLRLDLLRULRUURDDRDRDRURDRRLRDLLUDDRRDRRLDDULLLDLUDRRUDLDULDRURRDURLURRLDLRDLRUDLULUDDRULRLLDUURULURULURRLURRUULRULRRRLRDLULRLRLUDURDDRUUURDRLLRRRDDLDRRRULLDLRDRULDRRLRRDLUDDRDDDUUURRLULLDRRUULULLRRRRLDDRDDLUURLLUDLLDUDLULUULUDLLUUURRRUDDDRLLLRDRUUDUUURDRULURRLRDLLUURLRDURULDRRUDURRDDLDRLDRUUDRLLUDLRRU'\n",
       "\n",
       "\n"
      ],
      "text/plain": [
       "[1] \"UUURRRRULRDLRDRRDURDDDLLDLLLULDUDDLDLULUURULRLDLRRLLLRRDRRLDDLLULUDUDDLRDRDUURDLURUURLRULLDDURULRRURDUURLULUUUURDDDDUUDLULRULLLRLLRRRURDLLRLLRRRUURULRDRUUDDDDDLLLRURRURRUURDUURDDRDLULRRLLLDRRRLURRLLURLDRRDDLDLRRLLRDRLLLLDLULDLRRDRRLDDURLULLUDLUDRRDRRLRLULURDRLRLUUUDLRLDLLLURDUDULULDDRUUURLLLDLLDDUDDRURURUDDLUULRDRRRRLDRDDURLUDURDULLDLUDLULDRLRLLRLLLLRURDURLLDRRDRLRUUUUULLLRUDURUDLLLUDLLLLRDLDRDUDRURLUDDUDDURLUUUUDDLLUDLULLLLLDUDLLRLRRDDDULULRLDRLLULDLUDLLURULRDDUURULRDLDLDLRL\"                                                                                                                 \n",
       "[2] \"URUUURDULUDLUUUUDDRRRDRRRLDUDLRDRRDRDDLRUULDLLDUDULLLRLDRDRRLDLDLUUDRUULDUDULDUDURURDDURULDLURULRLULDUDDUULDLLLDDURDDRDDURUULUUDRLDDULDRRRRDURRUDLLLURDDDLRULLRDDRDDDDLUUDRDUULRRRRURULDDDLDDRDRRUDRRURUDRDDLDRRRLLURURUULUUDRDULLDRLRDRRDDURDUDLDRLUDRURDURURULDUUURDUULRRRRRUDLLULDDDRLULDDULUDRRRDDRUDRRDLDLRUULLLLRRDRRLUDRUULRDUDRDRRRDDRLLRUUDRLLLUDUDLULUUDULDRRRRDDRURULDULLURDLLLDUUDLLUDRLDURRRLDDDURUDUDURRULDD\"                                                                                                                                                                                       \n",
       "[3] \"LRUDDULLLULRLUDUDUDRLLUUUULLUDLUUUUDULLUURDLLRDUDLRUDRUDDURURRURUDLLLRLDLUDRRRRRRDLUURLRDDDULRRUDRULRDRDDUULRDDLDULDRRRDDLURRURLLLRURDULLRUUUDDUDUURLRLDDUURLRDRRLURLDRLLUUURDRUUDUUUDRLURUUUDLDRRLRLLRRUURULLLRLLDLLLDULDDLDULDLDDRUDURDDURDUDURDLLLRRDDLULLLUDURLUDDLDLUUDRDRUDUUDLLDDLLLLDRDULRDLDULLRUDDUULDUDLDDDRUURLDRRLURRDDRUUDRUDLLDLULLULUDUDURDDRLRDLRLDRLDDRULLLRUDULDRLRLRULLRLLRRRLLRRRDDRULRUURRLLLRULDLUDRRDDLLLUDDUDDDLURLUDRDLURUUDLLDLULURRLLDURUDDDDRLULRDDLRLDDLRLLDDRRLRDUDUUULRRLRULUDURDUDRLRLRUDUDLLRRRRLRRUDUL\"                                                                        \n",
       "[4] \"RULLLLUUUDLLDLLRULLRURRULDDRDLUULDRLLRUDLLRRLRDURLLDUUUUURUUURDLUURRLDDDLRRRRLRULDUDDLURDRRUUDLRRRDLDDUDUDDRUDURURLDULLDLULDLLUDLULRDRLLURRLLDURLDLRDLULUDDULDLDDDDDUURRDRURLDLDULLURDLLDDLLUDLDLDRLRLDLRDRLDLRRUUDRURLUUUDLURUULDUDRDULLDURUDLUUURRRLLDUDUDDUUULLLRUULDLURUDDRLUDRDDLDLLUDUDRRRDDUUULUULLLRLLUURDUUDRUUULULLDLDRUUDURLLUULRLDLUURLLUUDRURDDRLURULDUDUUDRRUUURDULRLDUUDDRURURDRRULDDDRLUDLLUUDURRRLDLRLRDRURLURLLLRLDDLRRLDLDDURDUUDRDRRLDRLULDRLURUUUDDRLLLDDLDURLLLLDRDLDRRUDULURRLULRDRLLUULLRLRDRLLULUURRUDRUDDDLLDURURLURRRDLLDRDLUDRULULULRLDLRRRUUDLULDURLRDRLULRUUURRDDLRUURUDRURUDURURDD\"\n",
       "[5] \"DURRDLLLDDLLDLLRLULULLRDLDRRDDRDLRULURRDUUDDRLLDDLDRRLRDUDRULDLRURDUUDRDDLLDRRDRUDUDULLDDDDLDRRRLRLRDRDLURRDDLDDDUUDRDRLLLDLUDDDLUULRDRLLLRLLUULUDDDRLDUUUURULRDDURRDRLUURLUDRLRLLLDDLRDDUULRRRRURDLDDDRLDLDRRLLDRDDUDDUURDLDUUDRDLDLDDULULUDDLRDDRLRLDDLUDLLDRLUDUDDRULLRLDLLRULRUURDDRDRDRURDRRLRDLLUDDRRDRRLDDULLLDLUDRRUDLDULDRURRDURLURRLDLRDLRUDLULUDDRULRLLDUURULURULURRLURRUULRULRRRLRDLULRLRLUDURDDRUUURDRLLRRRDDLDRRRULLDLRDRULDRRLRRDLUDDRDDDUUURRLULLDRRUULULLRRRRLDDRDDLUURLLUDLLDUDLULUULUDLLUUURRRUDDDRLLLRDRUUDUUURDRULURRLRDLLUURLRDURULDRRUDURRDDLDRLDRUUDRLLUDLRRU\"                            "
      ]
     },
     "metadata": {},
     "output_type": "display_data"
    },
    {
     "data": {
      "text/html": [
       "<table>\n",
       "<tbody>\n",
       "\t<tr><td>1</td><td>2</td><td>3</td></tr>\n",
       "\t<tr><td>4</td><td>5</td><td>6</td></tr>\n",
       "\t<tr><td>7</td><td>8</td><td>9</td></tr>\n",
       "</tbody>\n",
       "</table>\n"
      ],
      "text/latex": [
       "\\begin{tabular}{lll}\n",
       "\t 1 & 2 & 3\\\\\n",
       "\t 4 & 5 & 6\\\\\n",
       "\t 7 & 8 & 9\\\\\n",
       "\\end{tabular}\n"
      ],
      "text/markdown": [
       "\n",
       "| 1 | 2 | 3 | \n",
       "| 4 | 5 | 6 | \n",
       "| 7 | 8 | 9 | \n",
       "\n",
       "\n"
      ],
      "text/plain": [
       "     [,1] [,2] [,3]\n",
       "[1,] 1    2    3   \n",
       "[2,] 4    5    6   \n",
       "[3,] 7    8    9   "
      ]
     },
     "metadata": {},
     "output_type": "display_data"
    },
    {
     "data": {
      "text/html": [
       "<table>\n",
       "<tbody>\n",
       "\t<tr><td>NA</td><td>NA</td><td>NA</td><td>NA</td><td>NA</td><td>NA</td><td>NA</td></tr>\n",
       "\t<tr><td>NA</td><td>NA</td><td>NA</td><td>1 </td><td>NA</td><td>NA</td><td>NA</td></tr>\n",
       "\t<tr><td>NA</td><td>NA</td><td>2 </td><td>3 </td><td>4 </td><td>NA</td><td>NA</td></tr>\n",
       "\t<tr><td>NA</td><td>5 </td><td>6 </td><td>7 </td><td>8 </td><td>9 </td><td>NA</td></tr>\n",
       "\t<tr><td>NA</td><td>NA</td><td>A </td><td>B </td><td>C </td><td>NA</td><td>NA</td></tr>\n",
       "\t<tr><td>NA</td><td>NA</td><td>NA</td><td>D </td><td>NA</td><td>NA</td><td>NA</td></tr>\n",
       "\t<tr><td>NA</td><td>NA</td><td>NA</td><td>NA</td><td>NA</td><td>NA</td><td>NA</td></tr>\n",
       "</tbody>\n",
       "</table>\n"
      ],
      "text/latex": [
       "\\begin{tabular}{lllllll}\n",
       "\t NA & NA & NA & NA & NA & NA & NA\\\\\n",
       "\t NA & NA & NA & 1  & NA & NA & NA\\\\\n",
       "\t NA & NA & 2  & 3  & 4  & NA & NA\\\\\n",
       "\t NA & 5  & 6  & 7  & 8  & 9  & NA\\\\\n",
       "\t NA & NA & A  & B  & C  & NA & NA\\\\\n",
       "\t NA & NA & NA & D  & NA & NA & NA\\\\\n",
       "\t NA & NA & NA & NA & NA & NA & NA\\\\\n",
       "\\end{tabular}\n"
      ],
      "text/markdown": [
       "\n",
       "| NA | NA | NA | NA | NA | NA | NA | \n",
       "| NA | NA | NA | 1  | NA | NA | NA | \n",
       "| NA | NA | 2  | 3  | 4  | NA | NA | \n",
       "| NA | 5  | 6  | 7  | 8  | 9  | NA | \n",
       "| NA | NA | A  | B  | C  | NA | NA | \n",
       "| NA | NA | NA | D  | NA | NA | NA | \n",
       "| NA | NA | NA | NA | NA | NA | NA | \n",
       "\n",
       "\n"
      ],
      "text/plain": [
       "     [,1] [,2] [,3] [,4] [,5] [,6] [,7]\n",
       "[1,] NA   NA   NA   NA   NA   NA   NA  \n",
       "[2,] NA   NA   NA   1    NA   NA   NA  \n",
       "[3,] NA   NA   2    3    4    NA   NA  \n",
       "[4,] NA   5    6    7    8    9    NA  \n",
       "[5,] NA   NA   A    B    C    NA   NA  \n",
       "[6,] NA   NA   NA   D    NA   NA   NA  \n",
       "[7,] NA   NA   NA   NA   NA   NA   NA  "
      ]
     },
     "metadata": {},
     "output_type": "display_data"
    }
   ],
   "source": [
    "library(foreach)\n",
    "data <- readLines(\"day2a\")\n",
    "data\n",
    "pad <- matrix(c(1:9), ncol =3, byrow=T)\n",
    "pad\n",
    "curX <-2\n",
    "curY <-2\n",
    "result <- numeric()\n",
    "\n",
    "a <- foreach(x=data) %do% {\n",
    "    b <- foreach(y=strsplit(x, \"\")[[1]]) %do% {\n",
    "             switch(y,\n",
    "                D = {curX <- curX + 1},\n",
    "                L = {curY <- curY - 1},\n",
    "                U = {curX <- curX - 1},\n",
    "                R = {curY <- curY + 1}\n",
    "            )\n",
    "        curX <- max(1,curX)\n",
    "        curX <- min(3,curX)\n",
    "        curY <- max(1,curY)\n",
    "        curY <- min(3,curY)\n",
    "        }\n",
    "    result <- c(result,pad[curX,curY])\n",
    "}\n",
    "pad2 <- matrix(c(NA), ncol =7, nrow =7, byrow=T) # Made an oversize table to see when I am out based on value not index\n",
    "pad2[2,4] <- 1\n",
    "pad2[3,3:5] <- c(2:4)\n",
    "pad2[4,2:6] <- c(5:9)\n",
    "pad2[5,3:5] <- c('A','B','C')\n",
    "pad2[6,4] <- 'D'\n",
    "pad2"
   ]
  },
  {
   "cell_type": "code",
   "execution_count": 2,
   "metadata": {
    "collapsed": true
   },
   "outputs": [],
   "source": [
    "canMove <- function(x,y) !is.na(pad2[x,y]) #Quick function to verify if we are out of the table\n",
    "curX <-2\n",
    "curY <-4\n",
    "result2 <- numeric()\n",
    "\n",
    "a <- foreach(x=data) %do% {\n",
    "    b <- foreach(y=strsplit(x, \"\")[[1]]) %do% {\n",
    "             switch(y,\n",
    "                D = {curX <- if (canMove(curX + 1,curY)) curX + 1 else curX},\n",
    "                L = {curY <- if (canMove(curX,curY - 1)) curY - 1 else curY},\n",
    "                U = {curX <- if (canMove(curX - 1,curY)) curX - 1 else curX},\n",
    "                R = {curY <- if (canMove(curX,curY + 1)) curY + 1 else curY}\n",
    "            )\n",
    "        }\n",
    "    result2 <- c(result2,pad2[curX,curY])\n",
    "}"
   ]
  },
  {
   "cell_type": "code",
   "execution_count": 3,
   "metadata": {
    "collapsed": false
   },
   "outputs": [
    {
     "name": "stdout",
     "output_type": "stream",
     "text": [
      "Q1 -- The passcode for the door is:  78293 \n",
      "Q2 -- The passcode for the funny lock is:  AC8C8 \n"
     ]
    }
   ],
   "source": [
    "cat(\"Q1 -- The passcode for the door is: \", paste(result,collapse=\"\"),'\\n')\n",
    "cat(\"Q2 -- The passcode for the funny lock is: \", paste(result2,collapse=\"\"),'\\n')\n"
   ]
  },
  {
   "cell_type": "markdown",
   "metadata": {},
   "source": [
    "# Day 3"
   ]
  },
  {
   "cell_type": "markdown",
   "metadata": {},
   "source": [
    "--- Day 3: Squares With Three Sides ---\n",
    "\n",
    "Now that you can think clearly, you move deeper into the labyrinth of hallways and office furniture that makes up this part of Easter Bunny HQ. This must be a graphic design department; the walls are covered in specifications for triangles.\n",
    "\n",
    "Or are they?\n",
    "\n",
    "The design document gives the side lengths of each triangle it describes, but... 5 10 25? Some of these aren't triangles. You can't help but mark the impossible ones.\n",
    "\n",
    "In a valid triangle, the sum of any two sides must be larger than the remaining side. For example, the \"triangle\" given above is impossible, because 5 + 10 is not larger than 25.\n",
    "\n",
    "In your puzzle input, how many of the listed triangles are possible?\n",
    "\n",
    "--- Part Two ---\n",
    "\n",
    "Now that you've helpfully marked up their design documents, it occurs to you that triangles are specified in groups of three vertically. Each set of three numbers in a column specifies a triangle. Rows are unrelated.\n",
    "\n",
    "For example, given the following specification, numbers with the same hundreds digit would be part of the same triangle:\n",
    "\n",
    "101 301 501\n",
    "102 302 502\n",
    "103 303 503\n",
    "201 401 601\n",
    "202 402 602\n",
    "203 403 603\n",
    "\n",
    "In your puzzle input, and instead reading by columns, how many of the listed triangles are possible?"
   ]
  },
  {
   "cell_type": "code",
   "execution_count": 4,
   "metadata": {
    "collapsed": false
   },
   "outputs": [
    {
     "name": "stdout",
     "output_type": "stream",
     "text": [
      "'data.frame':\t1914 obs. of  3 variables:\n",
      " $ V1: int  775 622 297 245 503 731 29 245 261 669 ...\n",
      " $ V2: int  785 375 839 38 463 482 734 771 315 96 ...\n",
      " $ V3: int  361 125 375 891 849 759 734 269 904 581 ...\n",
      "'data.frame':\t1914 obs. of  3 variables:\n",
      " $ X1: int  775 245 29 669 472 413 271 539 434 188 ...\n",
      " $ X2: int  622 503 245 570 174 375 696 168 859 799 ...\n",
      " $ X3: int  297 731 261 124 406 211 513 690 620 932 ...\n",
      "Q1 - The number of possible triangles by row is:  1032 \n",
      "Q2 - The number of possible triangles by column is:  1838 \n"
     ]
    }
   ],
   "source": [
    "data <- read.table(\"day3a\") #Using dataframe to align data\n",
    "str(data)\n",
    "data$possible <- apply(data, 1, function(x) {t <- sort(x); (t[1]+t[2]) > t[3]}) #Creating new column with the possible value\n",
    "data2 <- data.frame(do.call(rbind, lapply(data[,1:3], matrix, ncol = 3, byrow=T)))\n",
    "str(data2)\n",
    "data2$possible <- apply(data2, 1, function(x) {t <- sort(x); (t[1]+t[2]) > t[3]})\n",
    "cat(\"Q1 - The number of possible triangles by row is: \", sum(data$possible), '\\n')\n",
    "cat(\"Q2 - The number of possible triangles by column is: \", sum(data2$possible), '\\n')"
   ]
  },
  {
   "cell_type": "markdown",
   "metadata": {},
   "source": [
    "# Day 4"
   ]
  },
  {
   "cell_type": "markdown",
   "metadata": {},
   "source": [
    "--- Day 4: Security Through Obscurity ---\n",
    "\n",
    "Finally, you come across an information kiosk with a list of rooms. Of course, the list is encrypted and full of decoy data, but the instructions to decode the list are barely hidden nearby. Better remove the decoy data first.\n",
    "\n",
    "Each room consists of an encrypted name (lowercase letters separated by dashes) followed by a dash, a sector ID, and a checksum in square brackets.\n",
    "\n",
    "A room is real (not a decoy) if the checksum is the five most common letters in the encrypted name, in order, with ties broken by alphabetization. For example:\n",
    "\n",
    "    aaaaa-bbb-z-y-x-123[abxyz] is a real room because the most common letters are a (5), b (3), and then a tie between x, y, and z, which are listed alphabetically.\n",
    "    a-b-c-d-e-f-g-h-987[abcde] is a real room because although the letters are all tied (1 of each), the first five are listed alphabetically.\n",
    "    not-a-real-room-404[oarel] is a real room.\n",
    "    totally-real-room-200[decoy] is not.\n",
    "\n",
    "Of the real rooms from the list above, the sum of their sector IDs is 1514.\n",
    "\n",
    "What is the sum of the sector IDs of the real rooms?\n",
    "\n",
    "Your puzzle answer was 173787.\n",
    "\n",
    "The first half of this puzzle is complete! It provides one gold star: *\n",
    "--- Part Two ---\n",
    "\n",
    "With all the decoy data out of the way, it's time to decrypt this list and get moving.\n",
    "\n",
    "The room names are encrypted by a state-of-the-art shift cipher, which is nearly unbreakable without the right software. However, the information kiosk designers at Easter Bunny HQ were not expecting to deal with a master cryptographer like yourself.\n",
    "\n",
    "To decrypt a room name, rotate each letter forward through the alphabet a number of times equal to the room's sector ID. A becomes B, B becomes C, Z becomes A, and so on. Dashes become spaces.\n",
    "\n",
    "For example, the real name for qzmt-zixmtkozy-ivhz-343 is very encrypted name.\n",
    "\n",
    "What is the sector ID of the room where North Pole objects are stored?\n"
   ]
  },
  {
   "cell_type": "code",
   "execution_count": 7,
   "metadata": {
    "collapsed": false
   },
   "outputs": [
    {
     "name": "stdout",
     "output_type": "stream",
     "text": [
      " chr [1:947] \"fubrjhqlf-edvnhw-dftxlvlwlrq-803[wjvzd]\" ...\n"
     ]
    },
    {
     "data": {
      "text/html": [
       "<table>\n",
       "<tbody>\n",
       "\t<tr><td>fubrjhqlf-edvnhw-dftxlvlwlrq-803[wjvzd]  </td><td>fubrjhqlf-edvnhw-dftxlvlwlrq             </td><td>803                                      </td><td>wjvzd                                    </td></tr>\n",
       "\t<tr><td>kzgwomvqk-rmttgjmiv-lmxizbumvb-902[zmnji]</td><td>kzgwomvqk-rmttgjmiv-lmxizbumvb           </td><td>902                                      </td><td>zmnji                                    </td></tr>\n",
       "\t<tr><td>dkqjcbctfqwu-dwppa-fgukip-596[syiua]     </td><td>dkqjcbctfqwu-dwppa-fgukip                </td><td>596                                      </td><td>syiua                                    </td></tr>\n",
       "\t<tr><td>xjinphzm-bmvyz-ytz-gjbdnodxn-135[nzbdj]  </td><td>xjinphzm-bmvyz-ytz-gjbdnodxn             </td><td>135                                      </td><td>nzbdj                                    </td></tr>\n",
       "\t<tr><td>uwtojhynqj-hfsid-xytwflj-177[ztsqu]      </td><td>uwtojhynqj-hfsid-xytwflj                 </td><td>177                                      </td><td>ztsqu                                    </td></tr>\n",
       "\t<tr><td>udpsdjlqj-fkrfrodwh-ilqdqflqj-491[uscwt] </td><td>udpsdjlqj-fkrfrodwh-ilqdqflqj            </td><td>491                                      </td><td>uscwt                                    </td></tr>\n",
       "</tbody>\n",
       "</table>\n"
      ],
      "text/latex": [
       "\\begin{tabular}{llll}\n",
       "\t fubrjhqlf-edvnhw-dftxlvlwlrq-803{[}wjvzd{]}   & fubrjhqlf-edvnhw-dftxlvlwlrq                  & 803                                           & wjvzd                                        \\\\\n",
       "\t kzgwomvqk-rmttgjmiv-lmxizbumvb-902{[}zmnji{]} & kzgwomvqk-rmttgjmiv-lmxizbumvb                & 902                                           & zmnji                                        \\\\\n",
       "\t dkqjcbctfqwu-dwppa-fgukip-596{[}syiua{]}      & dkqjcbctfqwu-dwppa-fgukip                     & 596                                           & syiua                                        \\\\\n",
       "\t xjinphzm-bmvyz-ytz-gjbdnodxn-135{[}nzbdj{]}   & xjinphzm-bmvyz-ytz-gjbdnodxn                  & 135                                           & nzbdj                                        \\\\\n",
       "\t uwtojhynqj-hfsid-xytwflj-177{[}ztsqu{]}       & uwtojhynqj-hfsid-xytwflj                      & 177                                           & ztsqu                                        \\\\\n",
       "\t udpsdjlqj-fkrfrodwh-ilqdqflqj-491{[}uscwt{]}  & udpsdjlqj-fkrfrodwh-ilqdqflqj                 & 491                                           & uscwt                                        \\\\\n",
       "\\end{tabular}\n"
      ],
      "text/markdown": [
       "\n",
       "| fubrjhqlf-edvnhw-dftxlvlwlrq-803[wjvzd]   | fubrjhqlf-edvnhw-dftxlvlwlrq              | 803                                       | wjvzd                                     | \n",
       "| kzgwomvqk-rmttgjmiv-lmxizbumvb-902[zmnji] | kzgwomvqk-rmttgjmiv-lmxizbumvb            | 902                                       | zmnji                                     | \n",
       "| dkqjcbctfqwu-dwppa-fgukip-596[syiua]      | dkqjcbctfqwu-dwppa-fgukip                 | 596                                       | syiua                                     | \n",
       "| xjinphzm-bmvyz-ytz-gjbdnodxn-135[nzbdj]   | xjinphzm-bmvyz-ytz-gjbdnodxn              | 135                                       | nzbdj                                     | \n",
       "| uwtojhynqj-hfsid-xytwflj-177[ztsqu]       | uwtojhynqj-hfsid-xytwflj                  | 177                                       | ztsqu                                     | \n",
       "| udpsdjlqj-fkrfrodwh-ilqdqflqj-491[uscwt]  | udpsdjlqj-fkrfrodwh-ilqdqflqj             | 491                                       | uscwt                                     | \n",
       "\n",
       "\n"
      ],
      "text/plain": [
       "     [,1]                                      [,2]                          \n",
       "[1,] fubrjhqlf-edvnhw-dftxlvlwlrq-803[wjvzd]   fubrjhqlf-edvnhw-dftxlvlwlrq  \n",
       "[2,] kzgwomvqk-rmttgjmiv-lmxizbumvb-902[zmnji] kzgwomvqk-rmttgjmiv-lmxizbumvb\n",
       "[3,] dkqjcbctfqwu-dwppa-fgukip-596[syiua]      dkqjcbctfqwu-dwppa-fgukip     \n",
       "[4,] xjinphzm-bmvyz-ytz-gjbdnodxn-135[nzbdj]   xjinphzm-bmvyz-ytz-gjbdnodxn  \n",
       "[5,] uwtojhynqj-hfsid-xytwflj-177[ztsqu]       uwtojhynqj-hfsid-xytwflj      \n",
       "[6,] udpsdjlqj-fkrfrodwh-ilqdqflqj-491[uscwt]  udpsdjlqj-fkrfrodwh-ilqdqflqj \n",
       "     [,3] [,4] \n",
       "[1,] 803  wjvzd\n",
       "[2,] 902  zmnji\n",
       "[3,] 596  syiua\n",
       "[4,] 135  nzbdj\n",
       "[5,] 177  ztsqu\n",
       "[6,] 491  uscwt"
      ]
     },
     "metadata": {},
     "output_type": "display_data"
    },
    {
     "data": {
      "text/html": [
       "<ol>\n",
       "\t<li><ol class=list-inline>\n",
       "\t<li>'fubrjhqlf-edvnhw-dftxlvlwlrq'</li>\n",
       "\t<li>'803'</li>\n",
       "\t<li>'wjvzd'</li>\n",
       "</ol>\n",
       "</li>\n",
       "\t<li><ol class=list-inline>\n",
       "\t<li>'kzgwomvqk-rmttgjmiv-lmxizbumvb'</li>\n",
       "\t<li>'902'</li>\n",
       "\t<li>'zmnji'</li>\n",
       "</ol>\n",
       "</li>\n",
       "\t<li><ol class=list-inline>\n",
       "\t<li>'dkqjcbctfqwu-dwppa-fgukip'</li>\n",
       "\t<li>'596'</li>\n",
       "\t<li>'syiua'</li>\n",
       "</ol>\n",
       "</li>\n",
       "\t<li><ol class=list-inline>\n",
       "\t<li>'xjinphzm-bmvyz-ytz-gjbdnodxn'</li>\n",
       "\t<li>'135'</li>\n",
       "\t<li>'nzbdj'</li>\n",
       "</ol>\n",
       "</li>\n",
       "\t<li><ol class=list-inline>\n",
       "\t<li>'uwtojhynqj-hfsid-xytwflj'</li>\n",
       "\t<li>'177'</li>\n",
       "\t<li>'ztsqu'</li>\n",
       "</ol>\n",
       "</li>\n",
       "\t<li><ol class=list-inline>\n",
       "\t<li>'udpsdjlqj-fkrfrodwh-ilqdqflqj'</li>\n",
       "\t<li>'491'</li>\n",
       "\t<li>'uscwt'</li>\n",
       "</ol>\n",
       "</li>\n",
       "</ol>\n"
      ],
      "text/latex": [
       "\\begin{enumerate}\n",
       "\\item \\begin{enumerate*}\n",
       "\\item 'fubrjhqlf-edvnhw-dftxlvlwlrq'\n",
       "\\item '803'\n",
       "\\item 'wjvzd'\n",
       "\\end{enumerate*}\n",
       "\n",
       "\\item \\begin{enumerate*}\n",
       "\\item 'kzgwomvqk-rmttgjmiv-lmxizbumvb'\n",
       "\\item '902'\n",
       "\\item 'zmnji'\n",
       "\\end{enumerate*}\n",
       "\n",
       "\\item \\begin{enumerate*}\n",
       "\\item 'dkqjcbctfqwu-dwppa-fgukip'\n",
       "\\item '596'\n",
       "\\item 'syiua'\n",
       "\\end{enumerate*}\n",
       "\n",
       "\\item \\begin{enumerate*}\n",
       "\\item 'xjinphzm-bmvyz-ytz-gjbdnodxn'\n",
       "\\item '135'\n",
       "\\item 'nzbdj'\n",
       "\\end{enumerate*}\n",
       "\n",
       "\\item \\begin{enumerate*}\n",
       "\\item 'uwtojhynqj-hfsid-xytwflj'\n",
       "\\item '177'\n",
       "\\item 'ztsqu'\n",
       "\\end{enumerate*}\n",
       "\n",
       "\\item \\begin{enumerate*}\n",
       "\\item 'udpsdjlqj-fkrfrodwh-ilqdqflqj'\n",
       "\\item '491'\n",
       "\\item 'uscwt'\n",
       "\\end{enumerate*}\n",
       "\n",
       "\\end{enumerate}\n"
      ],
      "text/markdown": [
       "1. 1. 'fubrjhqlf-edvnhw-dftxlvlwlrq'\n",
       "2. '803'\n",
       "3. 'wjvzd'\n",
       "\n",
       "\n",
       "\n",
       "2. 1. 'kzgwomvqk-rmttgjmiv-lmxizbumvb'\n",
       "2. '902'\n",
       "3. 'zmnji'\n",
       "\n",
       "\n",
       "\n",
       "3. 1. 'dkqjcbctfqwu-dwppa-fgukip'\n",
       "2. '596'\n",
       "3. 'syiua'\n",
       "\n",
       "\n",
       "\n",
       "4. 1. 'xjinphzm-bmvyz-ytz-gjbdnodxn'\n",
       "2. '135'\n",
       "3. 'nzbdj'\n",
       "\n",
       "\n",
       "\n",
       "5. 1. 'uwtojhynqj-hfsid-xytwflj'\n",
       "2. '177'\n",
       "3. 'ztsqu'\n",
       "\n",
       "\n",
       "\n",
       "6. 1. 'udpsdjlqj-fkrfrodwh-ilqdqflqj'\n",
       "2. '491'\n",
       "3. 'uscwt'\n",
       "\n",
       "\n",
       "\n",
       "\n",
       "\n"
      ],
      "text/plain": [
       "[[1]]\n",
       "[1] \"fubrjhqlf-edvnhw-dftxlvlwlrq\" \"803\"                         \n",
       "[3] \"wjvzd\"                       \n",
       "\n",
       "[[2]]\n",
       "[1] \"kzgwomvqk-rmttgjmiv-lmxizbumvb\" \"902\"                           \n",
       "[3] \"zmnji\"                         \n",
       "\n",
       "[[3]]\n",
       "[1] \"dkqjcbctfqwu-dwppa-fgukip\" \"596\"                      \n",
       "[3] \"syiua\"                    \n",
       "\n",
       "[[4]]\n",
       "[1] \"xjinphzm-bmvyz-ytz-gjbdnodxn\" \"135\"                         \n",
       "[3] \"nzbdj\"                       \n",
       "\n",
       "[[5]]\n",
       "[1] \"uwtojhynqj-hfsid-xytwflj\" \"177\"                     \n",
       "[3] \"ztsqu\"                   \n",
       "\n",
       "[[6]]\n",
       "[1] \"udpsdjlqj-fkrfrodwh-ilqdqflqj\" \"491\"                          \n",
       "[3] \"uscwt\"                        \n"
      ]
     },
     "metadata": {},
     "output_type": "display_data"
    },
    {
     "data": {
      "text/html": [
       "<table>\n",
       "<thead><tr><th scope=col>code</th><th scope=col>value</th><th scope=col>checksum</th></tr></thead>\n",
       "<tbody>\n",
       "\t<tr><td>fubrjhqlf-edvnhw-dftxlvlwlrq  </td><td>803                           </td><td>wjvzd                         </td></tr>\n",
       "\t<tr><td>kzgwomvqk-rmttgjmiv-lmxizbumvb</td><td>902                           </td><td>zmnji                         </td></tr>\n",
       "\t<tr><td>dkqjcbctfqwu-dwppa-fgukip     </td><td>596                           </td><td>syiua                         </td></tr>\n",
       "\t<tr><td>xjinphzm-bmvyz-ytz-gjbdnodxn  </td><td>135                           </td><td>nzbdj                         </td></tr>\n",
       "\t<tr><td>uwtojhynqj-hfsid-xytwflj      </td><td>177                           </td><td>ztsqu                         </td></tr>\n",
       "\t<tr><td>udpsdjlqj-fkrfrodwh-ilqdqflqj </td><td>491                           </td><td>uscwt                         </td></tr>\n",
       "</tbody>\n",
       "</table>\n"
      ],
      "text/latex": [
       "\\begin{tabular}{r|lll}\n",
       " code & value & checksum\\\\\n",
       "\\hline\n",
       "\t fubrjhqlf-edvnhw-dftxlvlwlrq   & 803                            & wjvzd                         \\\\\n",
       "\t kzgwomvqk-rmttgjmiv-lmxizbumvb & 902                            & zmnji                         \\\\\n",
       "\t dkqjcbctfqwu-dwppa-fgukip      & 596                            & syiua                         \\\\\n",
       "\t xjinphzm-bmvyz-ytz-gjbdnodxn   & 135                            & nzbdj                         \\\\\n",
       "\t uwtojhynqj-hfsid-xytwflj       & 177                            & ztsqu                         \\\\\n",
       "\t udpsdjlqj-fkrfrodwh-ilqdqflqj  & 491                            & uscwt                         \\\\\n",
       "\\end{tabular}\n"
      ],
      "text/markdown": [
       "\n",
       "code | value | checksum | \n",
       "|---|---|---|---|---|---|\n",
       "| fubrjhqlf-edvnhw-dftxlvlwlrq   | 803                            | wjvzd                          | \n",
       "| kzgwomvqk-rmttgjmiv-lmxizbumvb | 902                            | zmnji                          | \n",
       "| dkqjcbctfqwu-dwppa-fgukip      | 596                            | syiua                          | \n",
       "| xjinphzm-bmvyz-ytz-gjbdnodxn   | 135                            | nzbdj                          | \n",
       "| uwtojhynqj-hfsid-xytwflj       | 177                            | ztsqu                          | \n",
       "| udpsdjlqj-fkrfrodwh-ilqdqflqj  | 491                            | uscwt                          | \n",
       "\n",
       "\n"
      ],
      "text/plain": [
       "  code                           value checksum\n",
       "1 fubrjhqlf-edvnhw-dftxlvlwlrq   803   wjvzd   \n",
       "2 kzgwomvqk-rmttgjmiv-lmxizbumvb 902   zmnji   \n",
       "3 dkqjcbctfqwu-dwppa-fgukip      596   syiua   \n",
       "4 xjinphzm-bmvyz-ytz-gjbdnodxn   135   nzbdj   \n",
       "5 uwtojhynqj-hfsid-xytwflj       177   ztsqu   \n",
       "6 udpsdjlqj-fkrfrodwh-ilqdqflqj  491   uscwt   "
      ]
     },
     "metadata": {},
     "output_type": "display_data"
    },
    {
     "data": {
      "text/html": [
       "548"
      ],
      "text/latex": [
       "548"
      ],
      "text/markdown": [
       "548"
      ],
      "text/plain": [
       "[1] 548"
      ]
     },
     "metadata": {},
     "output_type": "display_data"
    },
    {
     "data": {
      "text/html": [
       "<span style=white-space:pre-wrap>'Q1 -- Number of good room is  173787'</span>"
      ],
      "text/latex": [
       "'Q1 -- Number of good room is  173787'"
      ],
      "text/markdown": [
       "<span style=white-space:pre-wrap>'Q1 -- Number of good room is  173787'</span>"
      ],
      "text/plain": [
       "[1] \"Q1 -- Number of good room is  173787\""
      ]
     },
     "metadata": {},
     "output_type": "display_data"
    },
    {
     "data": {
      "text/html": [
       "<span style=white-space:pre-wrap>'Q2 -- Value of the north pole storage room is  548'</span>"
      ],
      "text/latex": [
       "'Q2 -- Value of the north pole storage room is  548'"
      ],
      "text/markdown": [
       "<span style=white-space:pre-wrap>'Q2 -- Value of the north pole storage room is  548'</span>"
      ],
      "text/plain": [
       "[1] \"Q2 -- Value of the north pole storage room is  548\""
      ]
     },
     "metadata": {},
     "output_type": "display_data"
    }
   ],
   "source": [
    "library(foreach)\n",
    "library(stringr)\n",
    "data <- readLines(\"day4a\")\n",
    "str(data)\n",
    "ttt <- str_match(data,\"(.*)\\\\-+(\\\\d+)\\\\[(.*)\\\\]\")\n",
    "head(ttt)\n",
    "parsedData <- gsub(\"(.*)\\\\-+(\\\\d+)\\\\[(.*)\\\\]\", '\\\\1:\\\\2:\\\\3', data, perl = TRUE)\n",
    "parsedData <- strsplit(parsedData, ':')\n",
    "head(parsedData)\n",
    "dataf <-  as.data.frame(matrix(unlist(parsedData), ncol = 3, byrow=T))\n",
    "colnames(dataf)<- c(\"code\",\"value\",\"checksum\")\n",
    "head(dataf)\n",
    "# Simple parsing in int of the value column\n",
    "dataf$value <- strtoi(dataf$value, base = 0L)\n",
    "dataf$Valid <- apply(dataf, 1, function(x) {\n",
    "    a<-(sort(table(strsplit(gsub(\"-\",\"\",x[1]),\"\")), decreasing = TRUE)[1:5])\n",
    "    paste(attributes(a)$dimnames[[1]], collapse = '') == x[3]\n",
    "})\n",
    "english.letters <- c('a', 'b', 'c', 'd', 'e', 'f', 'g', 'h', 'i', 'j', 'k',\n",
    "                     'l', 'm', 'n', 'o', 'p', 'q', 'r', 's', 't', 'u', 'v',\n",
    "                     'w', 'x', 'y', 'z')\n",
    "\n",
    "caesar.cipher <- list()\n",
    "\n",
    "for (index in 1:length(english.letters))\n",
    "{\n",
    "  caesar.cipher[[english.letters[index]]] <- english.letters[index %% 26 + 1]\n",
    "}\n",
    "caesar.cipher[['-']] <- '-'\n",
    "apply.cipher.to.string <- function(string, cipher)\n",
    "{\n",
    "  output <- ''\n",
    "\n",
    "  for (i in 1:nchar(string))\n",
    "  {\n",
    "  output <- paste(output, cipher[[substr(string, i, i)]], sep = '')\n",
    "  }\n",
    "  \n",
    "  return(output)\n",
    "}\n",
    "tmp <- \"northpole-object-storage\"\n",
    "possible <- foreach(x=1:26) %do% {\n",
    "    tmp <- apply.cipher.to.string(tmp, caesar.cipher)\n",
    "    #intersect(strsplit(tmp,'-')[[1]], words)\n",
    "    #if( intersect(strsplit(tmp,'-')[[1]], words) != \"\")\n",
    "      #  strsplit(tmp,'-')[[1]][1]\n",
    "}\n",
    "dataf$value[dataf$code==intersect(possible,dataf$code)]\n",
    "paste(\"Q1 -- Number of good room is \", sum(dataf$value[dataf$Valid]))\n",
    "paste(\"Q2 -- Value of the north pole storage room is \", dataf$value[dataf$code==intersect(possible,dataf$code)])\n"
   ]
  },
  {
   "cell_type": "markdown",
   "metadata": {
    "collapsed": true
   },
   "source": [
    "# DAY 10"
   ]
  },
  {
   "cell_type": "markdown",
   "metadata": {},
   "source": [
    "--- Day 10: Balance Bots ---\n",
    "\n",
    "You come upon a factory in which many robots are zooming around handing small microchips to each other.\n",
    "\n",
    "Upon closer examination, you notice that each bot only proceeds when it has two microchips, and once it does, it gives each one to a different bot or puts it in a marked \"output\" bin. Sometimes, bots take microchips from \"input\" bins, too.\n",
    "\n",
    "Inspecting one of the microchips, it seems like they each contain a single number; the bots must use some logic to decide what to do with each chip. You access the local control computer and download the bots' instructions (your puzzle input).\n",
    "\n",
    "Some of the instructions specify that a specific-valued microchip should be given to a specific bot; the rest of the instructions indicate what a given bot should do with its lower-value or higher-value chip.\n",
    "\n",
    "For example, consider the following instructions:\n",
    "\n",
    "value 5 goes to bot 2\n",
    "bot 2 gives low to bot 1 and high to bot 0\n",
    "value 3 goes to bot 1\n",
    "bot 1 gives low to output 1 and high to bot 0\n",
    "bot 0 gives low to output 2 and high to output 0\n",
    "value 2 goes to bot 2\n",
    "\n",
    "    Initially, bot 1 starts with a value-3 chip, and bot 2 starts with a value-2 chip and a value-5 chip.\n",
    "    Because bot 2 has two microchips, it gives its lower one (2) to bot 1 and its higher one (5) to bot 0.\n",
    "    Then, bot 1 has two microchips; it puts the value-2 chip in output 1 and gives the value-3 chip to bot 0.\n",
    "    Finally, bot 0 has two microchips; it puts the 3 in output 2 and the 5 in output 0.\n",
    "\n",
    "In the end, output bin 0 contains a value-5 microchip, output bin 1 contains a value-2 microchip, and output bin 2 contains a value-3 microchip. In this configuration, bot number 2 is responsible for comparing value-5 microchips with value-2 microchips.\n",
    "\n",
    "Based on your instructions, what is the number of the bot that is responsible for comparing value-61 microchips with value-17 microchips?\n",
    "\n",
    "--- Part Two ---\n",
    "\n",
    "What do you get if you multiply together the values of one chip in each of outputs 0, 1, and 2?\n",
    "\n"
   ]
  },
  {
   "cell_type": "code",
   "execution_count": 5,
   "metadata": {
    "collapsed": false
   },
   "outputs": [
    {
     "data": {
      "text/html": [
       "'147'"
      ],
      "text/latex": [
       "'147'"
      ],
      "text/markdown": [
       "'147'"
      ],
      "text/plain": [
       "[1] \"147\""
      ]
     },
     "metadata": {},
     "output_type": "display_data"
    },
    {
     "data": {
      "text/html": [
       "55637"
      ],
      "text/latex": [
       "55637"
      ],
      "text/markdown": [
       "55637"
      ],
      "text/plain": [
       "[1] 55637"
      ]
     },
     "metadata": {},
     "output_type": "display_data"
    }
   ],
   "source": [
    "library(stringr)\n",
    "data <- readLines(\"day10.txt\")\n",
    "robotDB <- data.frame(id = integer(0), Low= integer(0), High = integer(0))\n",
    "robotDB[1, ] <- c(-1,-1,-1)\n",
    "output <- data.frame(id = integer(0), value= integer(0))\n",
    "output[1, ] <- c(-1,-1)\n",
    "addToRobot <- function(robot,value) {    \n",
    "    rr <- robotDB[robotDB$id==robot,]\n",
    "    if(nrow(rr)==0){#do not exist\n",
    "        robotDB <<- rbind(robotDB, c(id=robot, Low=value, High=-1))\n",
    "    }\n",
    "    else{\n",
    "        low <- rr$Low\n",
    "        if(as.integer(low)<=as.integer(value)){\n",
    "            robotDB[robotDB$id==robot,3] <<- value\n",
    "        }\n",
    "        else{\n",
    "            robotDB[robotDB$id==robot,3] <<- low\n",
    "            robotDB[robotDB$id==robot,2] <<- value\n",
    "        }\n",
    "        handleFull(robot)\n",
    "    }\n",
    "}\n",
    "\n",
    "handleFull <- function(robot) {\n",
    "    \n",
    "    if(toString(assign[which(assign$robot == robot), 4]) == \"bot\"){\n",
    "        addToRobot(toString(assign[which(assign$robot == robot), 5]),robotDB[robotDB$id==robot,3])#high\n",
    "    }\n",
    "    else {\n",
    "        output <<- rbind(output, c(id=toString(assign[which(assign$robot == robot), 5]), Low=robotDB[robotDB$id==robot,3]))\n",
    "    }\n",
    "     if(toString(assign[which(assign$robot == robot), 2]) == \"bot\"){\n",
    "        addToRobot(toString(assign[which(assign$robot == robot), 3]),robotDB[robotDB$id==robot,2])#low\n",
    "    }\n",
    "    else {\n",
    "        output <<- rbind(output, c(id=toString(assign[which(assign$robot == robot), 3]), Low=robotDB[robotDB$id==robot,2]))\n",
    "    }\n",
    "    \n",
    "}\n",
    "\n",
    "start <- str_match(data,\"^value.*[ ](\\\\d+)[ ].*[ ](\\\\d+)$\" )\n",
    "value <- as.data.frame(start[,2:3])\n",
    "value <- value[complete.cases(value),]\n",
    "colnames(value) <- c(\"value\",\"robot\")\n",
    "\n",
    "start <- str_match(data,\"^bot (\\\\d+) .* (\\\\w*) (\\\\d+)[ ].* (\\\\w*) (\\\\d+)$\" )\n",
    "assign <- as.data.frame(start[,-1])\n",
    "assign <- assign[complete.cases(assign),]\n",
    "colnames(assign) <- c(\"robot\",\"lowType\",\"low\",\"highType\",\"high\")\n",
    "\n",
    "a <- apply(value, 1,  function(x) {addToRobot(x[2],x[1])})\n",
    "\n",
    "\n",
    "\n",
    "robotDB[ which(robotDB$Low==17 \n",
    "& robotDB$High == 61), ]$id\n",
    "\n",
    "prod(as.integer(output[ which(output$id=='0' |output$id=='1' |output$id=='2'), 2]))\n",
    "\n",
    "\n"
   ]
  },
  {
   "cell_type": "markdown",
   "metadata": {
    "collapsed": true
   },
   "source": [
    "# Day 14"
   ]
  },
  {
   "cell_type": "markdown",
   "metadata": {
    "collapsed": true
   },
   "source": [
    "--- Day 14: One-Time Pad ---\n",
    "\n",
    "In order to communicate securely with Santa while you're on this mission, you've been using a one-time pad that you generate using a pre-agreed algorithm. Unfortunately, you've run out of keys in your one-time pad, and so you need to generate some more.\n",
    "\n",
    "To generate keys, you first get a stream of random data by taking the MD5 of a pre-arranged salt (your puzzle input) and an increasing integer index (starting with 0, and represented in decimal); the resulting MD5 hash should be represented as a string of lowercase hexadecimal digits.\n",
    "\n",
    "However, not all of these MD5 hashes are keys, and you need 64 new keys for your one-time pad. A hash is a key only if:\n",
    "\n",
    "    It contains three of the same character in a row, like 777. Only consider the first such triplet in a hash.\n",
    "    One of the next 1000 hashes in the stream contains that same character five times in a row, like 77777.\n",
    "\n",
    "Considering future hashes for five-of-a-kind sequences does not cause those hashes to be skipped; instead, regardless of whether the current hash is a key, always resume testing for keys starting with the very next hash.\n",
    "\n",
    "For example, if the pre-arranged salt is abc:\n",
    "\n",
    "    The first index which produces a triple is 18, because the MD5 hash of abc18 contains ...cc38887a5.... However, index 18 does not count as a key for your one-time pad, because none of the next thousand hashes (index 19 through index 1018) contain 88888.\n",
    "    The next index which produces a triple is 39; the hash of abc39 contains eee. It is also the first key: one of the next thousand hashes (the one at index 816) contains eeeee.\n",
    "    None of the next six triples are keys, but the one after that, at index 92, is: it contains 999 and index 200 contains 99999.\n",
    "    Eventually, index 22728 meets all of the criteria to generate the 64th key.\n",
    "\n",
    "So, using our example salt of abc, index 22728 produces the 64th key.\n",
    "\n",
    "Given the actual salt in your puzzle input, what index produces your 64th one-time pad key?\n",
    "\n",
    "Your puzzle input is qzyelonm.\n",
    "\n",
    "\n",
    "-- Part Two ---\n",
    "\n",
    "Of course, in order to make this process even more secure, you've also implemented key stretching.\n",
    "\n",
    "Key stretching forces attackers to spend more time generating hashes. Unfortunately, it forces everyone else to spend more time, too.\n",
    "\n",
    "To implement key stretching, whenever you generate a hash, before you use it, you first find the MD5 hash of that hash, then the MD5 hash of that hash, and so on, a total of 2016 additional hashings. Always use lowercase hexadecimal representations of hashes.\n",
    "\n",
    "For example, to find the stretched hash for index 0 and salt abc:\n",
    "\n",
    "    Find the MD5 hash of abc0: 577571be4de9dcce85a041ba0410f29f.\n",
    "    Then, find the MD5 hash of that hash: eec80a0c92dc8a0777c619d9bb51e910.\n",
    "    Then, find the MD5 hash of that hash: 16062ce768787384c81fe17a7a60c7e3.\n",
    "    ...repeat many times...\n",
    "    Then, find the MD5 hash of that hash: a107ff634856bb300138cac6568c0f24.\n",
    "\n",
    "So, the stretched hash for index 0 in this situation is a107ff.... In the end, you find the original hash (one use of MD5), then find the hash-of-the-previous-hash 2016 times, for a total of 2017 uses of MD5.\n",
    "\n",
    "The rest of the process remains the same, but now the keys are entirely different. Again for salt abc:\n",
    "\n",
    "    The first triple (222, at index 5) has no matching 22222 in the next thousand hashes.\n",
    "    The second triple (eee, at index 10) hash a matching eeeee at index 89, and so it is the first key.\n",
    "    Eventually, index 22551 produces the 64th key (triple fff with matching fffff at index 22859.\n",
    "\n",
    "Given the actual salt in your puzzle input and using 2016 extra MD5 calls of key stretching, what index now produces your 64th one-time pad key?\n",
    "\n",
    "Your puzzle input is still qzyelonm."
   ]
  },
  {
   "cell_type": "code",
   "execution_count": null,
   "metadata": {
    "collapsed": true
   },
   "outputs": [],
   "source": [
    "library(digest)\n",
    "library(stringr)\n",
    "input <- \"qzyelonm\"\n",
    "charwith3 <- data.frame(input=integer(),\n",
    "                        md5=character(), \n",
    "                        ch=character(),\n",
    "                        valid=logical(), \n",
    "                        stringsAsFactors=FALSE) \n",
    "\n",
    "charwith5 <- data.frame(input=integer(),\n",
    "                        md5=character(), \n",
    "                        ch=character(), \n",
    "                        stringsAsFactors=FALSE) \n",
    "\n",
    "current <- 0\n",
    "goal <- 64\n",
    "finish <- 99999999\n",
    "done <- FALSE\n",
    "while(finish>=current){\n",
    "  if(sum(charwith3$valid)>=goal && finish==99999999){\n",
    "    finish <- current + 1003\n",
    "  }\n",
    "  x <- paste(input,current,sep=\"\")\n",
    "  \n",
    "  x <- digest(x,\"md5\", serialize = FALSE)\n",
    "  \n",
    "  #look for 5\n",
    "  search <- TRUE\n",
    "  aa<-x\n",
    "  ttt <- str_match(aa,\"(.)\\\\1{4,}\")\n",
    "  if((!is.na(ttt[1]))){\n",
    "    cht <- ttt[2]\n",
    "    charwith5<-rbind(charwith5,data.frame(input=current,md5=x,ch=cht,valid=FALSE))\n",
    "    charwith3$valid[charwith3$ch==cht & charwith3$input>current-1001] <- TRUE\n",
    "    charwith3$solver[charwith3$ch==cht & charwith3$input>current-1001] <- current\n",
    "  }\n",
    "  \n",
    "  #Look for 3\n",
    "  aa<-x\n",
    "  ttt <- str_match(aa,\"(.)\\\\1{2,}\")\n",
    "  if((!is.na(ttt[1]))){\n",
    "    cht <- ttt[2]\n",
    "    charwith3<-rbind(charwith3,data.frame(input=current,md5=x,ch=cht,solver=0,valid=FALSE))\n",
    "  }\n",
    "  \n",
    "  \n",
    "  current <- current+1\n",
    "}\n",
    "\n",
    "Q1 <- charwith3$input[charwith3$valid][64]\n",
    "\n",
    "charwith3 <- data.frame(input=integer(),\n",
    "                        md5=character(), \n",
    "                        ch=character(),\n",
    "                        valid=logical(), \n",
    "                        stringsAsFactors=FALSE) \n",
    "\n",
    "charwith5 <- data.frame(input=integer(),\n",
    "                        md5=character(), \n",
    "                        ch=character(), \n",
    "                        stringsAsFactors=FALSE) \n",
    "\n",
    "current <- 0\n",
    "goal <- 64\n",
    "finish <- 99999999\n",
    "done <- FALSE\n",
    "while(finish>=current){\n",
    "  if(sum(charwith3$valid)>=goal && finish==99999999){\n",
    "    finish <- current + 1001\n",
    "  }\n",
    "  x <- paste(input,current,sep=\"\")\n",
    "  \n",
    "  for (i in 1:2017) {\n",
    "    x <- digest(x,\"md5\", serialize = FALSE)\n",
    "}\n",
    "  #look for 5\n",
    "  search <- TRUE\n",
    "  aa<-x\n",
    "  ttt <- str_match(aa,\"(.)\\\\1{4,}\")\n",
    "  if((!is.na(ttt[1]))){\n",
    "    cht <- ttt[2]\n",
    "    charwith5<-rbind(charwith5,data.frame(input=current,md5=x,ch=cht,valid=FALSE))\n",
    "    charwith3$valid[charwith3$ch==cht & charwith3$input>current-1001] <- TRUE\n",
    "    charwith3$solver[charwith3$ch==cht & charwith3$input>current-1001] <- current\n",
    "  }\n",
    "  \n",
    "  #Look for 3\n",
    "  aa<-x\n",
    "  ttt <- str_match(aa,\"(.)\\\\1{2,}\")\n",
    "  if((!is.na(ttt[1]))){\n",
    "    cht <- ttt[2]\n",
    "    charwith3<-rbind(charwith3,data.frame(input=current,md5=x,ch=cht,solver=0,valid=FALSE))\n",
    "  }\n",
    "  \n",
    "  \n",
    "  current <- current+1\n",
    "}\n",
    "\n",
    "Q2 <- charwith3$input[charwith3$valid][64]\n",
    "\n",
    "paste(\"Q1 - The 64th key is produce by the index = \", Q1, '\\n')\n",
    "cat(\"Q2 - The 64th key is produce by the index = \", Q2, '\\n')"
   ]
  },
  {
   "cell_type": "code",
   "execution_count": null,
   "metadata": {
    "collapsed": true
   },
   "outputs": [],
   "source": []
  },
  {
   "cell_type": "code",
   "execution_count": null,
   "metadata": {
    "collapsed": true
   },
   "outputs": [],
   "source": []
  }
 ],
 "metadata": {
  "kernelspec": {
   "display_name": "R",
   "language": "R",
   "name": "ir"
  },
  "language_info": {
   "codemirror_mode": "r",
   "file_extension": ".r",
   "mimetype": "text/x-r-source",
   "name": "R",
   "pygments_lexer": "r",
   "version": "3.3.2"
  }
 },
 "nbformat": 4,
 "nbformat_minor": 2
}
